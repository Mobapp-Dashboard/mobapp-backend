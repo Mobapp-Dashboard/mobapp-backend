{
 "cells": [
  {
   "cell_type": "code",
   "execution_count": 50,
   "id": "da4057f2-ba47-48e3-a0ee-5aaa2c0c52da",
   "metadata": {},
   "outputs": [],
   "source": [
    "from app.api.api_v1.endpoints import dublin_points as dp\n",
    "\n",
    "from app.db.session import SessionLocal\n",
    "\n",
    "from app.crud.base import CRUDBase\n",
    "from app.models.dublin_points import DublinPoints\n",
    "from app.models.dublin_meta import DublinMeta\n",
    "from app.schemas.dublin_points import DublinPointsCreate, DublinPointsUpdate\n",
    "db = SessionLocal()"
   ]
  },
  {
   "cell_type": "raw",
   "id": "2b3e93a0-03ee-4191-8696-da9f9ea5ccf0",
   "metadata": {},
   "source": [
    "dp.read_dublin_points_by_traj_turno(db=db, journey_id=\"00070001\", turno=\"manha\")"
   ]
  },
  {
   "cell_type": "code",
   "execution_count": 18,
   "id": "36471f99-8c5e-4b21-95e5-55e91f58b30f",
   "metadata": {},
   "outputs": [
    {
     "ename": "SyntaxError",
     "evalue": "invalid syntax (<fstring>, line 1)",
     "output_type": "error",
     "traceback": [
      "\u001b[0;36m  File \u001b[0;32m\"<fstring>\"\u001b[0;36m, line \u001b[0;32m1\u001b[0m\n\u001b[0;31m    (i=)\u001b[0m\n\u001b[0m      ^\u001b[0m\n\u001b[0;31mSyntaxError\u001b[0m\u001b[0;31m:\u001b[0m invalid syntax\n"
     ]
    }
   ],
   "source": [
    "def x(i: int = None):\n",
    "    print(f'{i=}')"
   ]
  },
  {
   "cell_type": "code",
   "execution_count": 36,
   "id": "48debd1b-6c00-4bd5-8623-dd3de8475da6",
   "metadata": {},
   "outputs": [],
   "source": [
    "a=None\n",
    "b=0\n",
    "c={\"a\": a, \"b\": b}\n",
    "d = {k: v for k, v in c.items() if v != None}"
   ]
  },
  {
   "cell_type": "code",
   "execution_count": 34,
   "id": "d5ec7a16-b18d-4185-9df8-4d654df82110",
   "metadata": {},
   "outputs": [],
   "source": [
    "if (d):\n",
    "    print(d)"
   ]
  },
  {
   "cell_type": "code",
   "execution_count": 56,
   "id": "e6764a4a-a8c1-4c3a-a6b3-5cab7461f16f",
   "metadata": {},
   "outputs": [],
   "source": [
    "a = db.query(DublinPoints)"
   ]
  },
  {
   "cell_type": "code",
   "execution_count": 57,
   "id": "4534a12b-3fd2-464e-986b-99d3706538f1",
   "metadata": {},
   "outputs": [
    {
     "ename": "KeyboardInterrupt",
     "evalue": "",
     "output_type": "error",
     "traceback": [
      "\u001b[0;31m---------------------------------------------------------------------------\u001b[0m",
      "\u001b[0;31mKeyboardInterrupt\u001b[0m                         Traceback (most recent call last)",
      "\u001b[0;32m/tmp/ipykernel_3137/3106001979.py\u001b[0m in \u001b[0;36m<module>\u001b[0;34m\u001b[0m\n\u001b[0;32m----> 1\u001b[0;31m \u001b[0ma\u001b[0m\u001b[0;34m.\u001b[0m\u001b[0mall\u001b[0m\u001b[0;34m(\u001b[0m\u001b[0;34m)\u001b[0m\u001b[0;34m\u001b[0m\u001b[0;34m\u001b[0m\u001b[0m\n\u001b[0m",
      "\u001b[0;32m/usr/local/lib/python3.7/site-packages/sqlalchemy/orm/query.py\u001b[0m in \u001b[0;36mall\u001b[0;34m(self)\u001b[0m\n\u001b[1;32m   3244\u001b[0m                 \u001b[0;34m:\u001b[0m\u001b[0mref\u001b[0m\u001b[0;34m:\u001b[0m\u001b[0;31m`\u001b[0m\u001b[0mfaq_query_deduplicating\u001b[0m\u001b[0;31m`\u001b[0m\u001b[0;34m\u001b[0m\u001b[0;34m\u001b[0m\u001b[0m\n\u001b[1;32m   3245\u001b[0m         \"\"\"\n\u001b[0;32m-> 3246\u001b[0;31m         \u001b[0;32mreturn\u001b[0m \u001b[0mlist\u001b[0m\u001b[0;34m(\u001b[0m\u001b[0mself\u001b[0m\u001b[0;34m)\u001b[0m\u001b[0;34m\u001b[0m\u001b[0;34m\u001b[0m\u001b[0m\n\u001b[0m\u001b[1;32m   3247\u001b[0m \u001b[0;34m\u001b[0m\u001b[0m\n\u001b[1;32m   3248\u001b[0m     \u001b[0;34m@\u001b[0m\u001b[0m_generative\u001b[0m\u001b[0;34m(\u001b[0m\u001b[0m_no_clauseelement_condition\u001b[0m\u001b[0;34m)\u001b[0m\u001b[0;34m\u001b[0m\u001b[0;34m\u001b[0m\u001b[0m\n",
      "\u001b[0;32m/usr/local/lib/python3.7/site-packages/sqlalchemy/orm/loading.py\u001b[0m in \u001b[0;36minstances\u001b[0;34m(query, cursor, context)\u001b[0m\n\u001b[1;32m     75\u001b[0m                     \u001b[0;32mbreak\u001b[0m\u001b[0;34m\u001b[0m\u001b[0;34m\u001b[0m\u001b[0m\n\u001b[1;32m     76\u001b[0m             \u001b[0;32melse\u001b[0m\u001b[0;34m:\u001b[0m\u001b[0;34m\u001b[0m\u001b[0;34m\u001b[0m\u001b[0m\n\u001b[0;32m---> 77\u001b[0;31m                 \u001b[0mfetch\u001b[0m \u001b[0;34m=\u001b[0m \u001b[0mcursor\u001b[0m\u001b[0;34m.\u001b[0m\u001b[0mfetchall\u001b[0m\u001b[0;34m(\u001b[0m\u001b[0;34m)\u001b[0m\u001b[0;34m\u001b[0m\u001b[0;34m\u001b[0m\u001b[0m\n\u001b[0m\u001b[1;32m     78\u001b[0m \u001b[0;34m\u001b[0m\u001b[0m\n\u001b[1;32m     79\u001b[0m             \u001b[0;32mif\u001b[0m \u001b[0msingle_entity\u001b[0m\u001b[0;34m:\u001b[0m\u001b[0;34m\u001b[0m\u001b[0;34m\u001b[0m\u001b[0m\n",
      "\u001b[0;32m/usr/local/lib/python3.7/site-packages/sqlalchemy/engine/result.py\u001b[0m in \u001b[0;36mfetchall\u001b[0;34m(self)\u001b[0m\n\u001b[1;32m   1276\u001b[0m         \u001b[0;32mexcept\u001b[0m \u001b[0mBaseException\u001b[0m \u001b[0;32mas\u001b[0m \u001b[0me\u001b[0m\u001b[0;34m:\u001b[0m\u001b[0;34m\u001b[0m\u001b[0;34m\u001b[0m\u001b[0m\n\u001b[1;32m   1277\u001b[0m             self.connection._handle_dbapi_exception(\n\u001b[0;32m-> 1278\u001b[0;31m                 \u001b[0me\u001b[0m\u001b[0;34m,\u001b[0m \u001b[0;32mNone\u001b[0m\u001b[0;34m,\u001b[0m \u001b[0;32mNone\u001b[0m\u001b[0;34m,\u001b[0m \u001b[0mself\u001b[0m\u001b[0;34m.\u001b[0m\u001b[0mcursor\u001b[0m\u001b[0;34m,\u001b[0m \u001b[0mself\u001b[0m\u001b[0;34m.\u001b[0m\u001b[0mcontext\u001b[0m\u001b[0;34m\u001b[0m\u001b[0;34m\u001b[0m\u001b[0m\n\u001b[0m\u001b[1;32m   1279\u001b[0m             )\n\u001b[1;32m   1280\u001b[0m \u001b[0;34m\u001b[0m\u001b[0m\n",
      "\u001b[0;32m/usr/local/lib/python3.7/site-packages/sqlalchemy/engine/base.py\u001b[0m in \u001b[0;36m_handle_dbapi_exception\u001b[0;34m(self, e, statement, parameters, cursor, context)\u001b[0m\n\u001b[1;32m   1483\u001b[0m                 )\n\u001b[1;32m   1484\u001b[0m             \u001b[0;32melse\u001b[0m\u001b[0;34m:\u001b[0m\u001b[0;34m\u001b[0m\u001b[0;34m\u001b[0m\u001b[0m\n\u001b[0;32m-> 1485\u001b[0;31m                 \u001b[0mutil\u001b[0m\u001b[0;34m.\u001b[0m\u001b[0mraise_\u001b[0m\u001b[0;34m(\u001b[0m\u001b[0mexc_info\u001b[0m\u001b[0;34m[\u001b[0m\u001b[0;36m1\u001b[0m\u001b[0;34m]\u001b[0m\u001b[0;34m,\u001b[0m \u001b[0mwith_traceback\u001b[0m\u001b[0;34m=\u001b[0m\u001b[0mexc_info\u001b[0m\u001b[0;34m[\u001b[0m\u001b[0;36m2\u001b[0m\u001b[0;34m]\u001b[0m\u001b[0;34m)\u001b[0m\u001b[0;34m\u001b[0m\u001b[0;34m\u001b[0m\u001b[0m\n\u001b[0m\u001b[1;32m   1486\u001b[0m \u001b[0;34m\u001b[0m\u001b[0m\n\u001b[1;32m   1487\u001b[0m         \u001b[0;32mfinally\u001b[0m\u001b[0;34m:\u001b[0m\u001b[0;34m\u001b[0m\u001b[0;34m\u001b[0m\u001b[0m\n",
      "\u001b[0;32m/usr/local/lib/python3.7/site-packages/sqlalchemy/util/compat.py\u001b[0m in \u001b[0;36mraise_\u001b[0;34m(***failed resolving arguments***)\u001b[0m\n\u001b[1;32m    176\u001b[0m \u001b[0;34m\u001b[0m\u001b[0m\n\u001b[1;32m    177\u001b[0m         \u001b[0;32mtry\u001b[0m\u001b[0;34m:\u001b[0m\u001b[0;34m\u001b[0m\u001b[0;34m\u001b[0m\u001b[0m\n\u001b[0;32m--> 178\u001b[0;31m             \u001b[0;32mraise\u001b[0m \u001b[0mexception\u001b[0m\u001b[0;34m\u001b[0m\u001b[0;34m\u001b[0m\u001b[0m\n\u001b[0m\u001b[1;32m    179\u001b[0m         \u001b[0;32mfinally\u001b[0m\u001b[0;34m:\u001b[0m\u001b[0;34m\u001b[0m\u001b[0;34m\u001b[0m\u001b[0m\n\u001b[1;32m    180\u001b[0m             \u001b[0;31m# credit to\u001b[0m\u001b[0;34m\u001b[0m\u001b[0;34m\u001b[0m\u001b[0;34m\u001b[0m\u001b[0m\n",
      "\u001b[0;32m/usr/local/lib/python3.7/site-packages/sqlalchemy/engine/result.py\u001b[0m in \u001b[0;36mfetchall\u001b[0;34m(self)\u001b[0m\n\u001b[1;32m   1271\u001b[0m \u001b[0;34m\u001b[0m\u001b[0m\n\u001b[1;32m   1272\u001b[0m         \u001b[0;32mtry\u001b[0m\u001b[0;34m:\u001b[0m\u001b[0;34m\u001b[0m\u001b[0;34m\u001b[0m\u001b[0m\n\u001b[0;32m-> 1273\u001b[0;31m             \u001b[0ml\u001b[0m \u001b[0;34m=\u001b[0m \u001b[0mself\u001b[0m\u001b[0;34m.\u001b[0m\u001b[0mprocess_rows\u001b[0m\u001b[0;34m(\u001b[0m\u001b[0mself\u001b[0m\u001b[0;34m.\u001b[0m\u001b[0m_fetchall_impl\u001b[0m\u001b[0;34m(\u001b[0m\u001b[0;34m)\u001b[0m\u001b[0;34m)\u001b[0m\u001b[0;34m\u001b[0m\u001b[0;34m\u001b[0m\u001b[0m\n\u001b[0m\u001b[1;32m   1274\u001b[0m             \u001b[0mself\u001b[0m\u001b[0;34m.\u001b[0m\u001b[0m_soft_close\u001b[0m\u001b[0;34m(\u001b[0m\u001b[0;34m)\u001b[0m\u001b[0;34m\u001b[0m\u001b[0;34m\u001b[0m\u001b[0m\n\u001b[1;32m   1275\u001b[0m             \u001b[0;32mreturn\u001b[0m \u001b[0ml\u001b[0m\u001b[0;34m\u001b[0m\u001b[0;34m\u001b[0m\u001b[0m\n",
      "\u001b[0;32m/usr/local/lib/python3.7/site-packages/sqlalchemy/engine/result.py\u001b[0m in \u001b[0;36m_fetchall_impl\u001b[0;34m(self)\u001b[0m\n\u001b[1;32m   1217\u001b[0m     \u001b[0;32mdef\u001b[0m \u001b[0m_fetchall_impl\u001b[0m\u001b[0;34m(\u001b[0m\u001b[0mself\u001b[0m\u001b[0;34m)\u001b[0m\u001b[0;34m:\u001b[0m\u001b[0;34m\u001b[0m\u001b[0;34m\u001b[0m\u001b[0m\n\u001b[1;32m   1218\u001b[0m         \u001b[0;32mtry\u001b[0m\u001b[0;34m:\u001b[0m\u001b[0;34m\u001b[0m\u001b[0;34m\u001b[0m\u001b[0m\n\u001b[0;32m-> 1219\u001b[0;31m             \u001b[0;32mreturn\u001b[0m \u001b[0mself\u001b[0m\u001b[0;34m.\u001b[0m\u001b[0mcursor\u001b[0m\u001b[0;34m.\u001b[0m\u001b[0mfetchall\u001b[0m\u001b[0;34m(\u001b[0m\u001b[0;34m)\u001b[0m\u001b[0;34m\u001b[0m\u001b[0;34m\u001b[0m\u001b[0m\n\u001b[0m\u001b[1;32m   1220\u001b[0m         \u001b[0;32mexcept\u001b[0m \u001b[0mAttributeError\u001b[0m \u001b[0;32mas\u001b[0m \u001b[0merr\u001b[0m\u001b[0;34m:\u001b[0m\u001b[0;34m\u001b[0m\u001b[0;34m\u001b[0m\u001b[0m\n\u001b[1;32m   1221\u001b[0m             \u001b[0;32mreturn\u001b[0m \u001b[0mself\u001b[0m\u001b[0;34m.\u001b[0m\u001b[0m_non_result\u001b[0m\u001b[0;34m(\u001b[0m\u001b[0;34m[\u001b[0m\u001b[0;34m]\u001b[0m\u001b[0;34m,\u001b[0m \u001b[0merr\u001b[0m\u001b[0;34m)\u001b[0m\u001b[0;34m\u001b[0m\u001b[0;34m\u001b[0m\u001b[0m\n",
      "\u001b[0;31mKeyboardInterrupt\u001b[0m: "
     ]
    }
   ],
   "source": [
    "a.all()"
   ]
  },
  {
   "cell_type": "code",
   "execution_count": null,
   "id": "ec5e37a4-00de-4c47-af46-4bf9b9da6815",
   "metadata": {},
   "outputs": [],
   "source": []
  },
  {
   "cell_type": "code",
   "execution_count": 3,
   "id": "afb437a5-6214-482c-ab99-e36b89ad1fa0",
   "metadata": {},
   "outputs": [],
   "source": [
    "from app.crud import crud_dublin_points as dp"
   ]
  },
  {
   "cell_type": "code",
   "execution_count": 4,
   "id": "e971671e-72ee-49ed-b5d5-1990abf5e6c8",
   "metadata": {},
   "outputs": [
    {
     "data": {
      "text/plain": [
       "[<app.models.dublin_points.DublinPoints at 0x7fd2d4110f10>,\n",
       " <app.models.dublin_points.DublinPoints at 0x7fd2676f3e10>,\n",
       " <app.models.dublin_points.DublinPoints at 0x7fd2676f3e90>,\n",
       " <app.models.dublin_points.DublinPoints at 0x7fd2676f3f10>,\n",
       " <app.models.dublin_points.DublinPoints at 0x7fd2676f3f90>,\n",
       " <app.models.dublin_points.DublinPoints at 0x7fd267a3b090>,\n",
       " <app.models.dublin_points.DublinPoints at 0x7fd267a3b110>,\n",
       " <app.models.dublin_points.DublinPoints at 0x7fd267a3b190>,\n",
       " <app.models.dublin_points.DublinPoints at 0x7fd267a3b210>,\n",
       " <app.models.dublin_points.DublinPoints at 0x7fd267a3b050>,\n",
       " <app.models.dublin_points.DublinPoints at 0x7fd267a3b2d0>,\n",
       " <app.models.dublin_points.DublinPoints at 0x7fd267a3b350>,\n",
       " <app.models.dublin_points.DublinPoints at 0x7fd267a3b3d0>,\n",
       " <app.models.dublin_points.DublinPoints at 0x7fd267a3b450>,\n",
       " <app.models.dublin_points.DublinPoints at 0x7fd267a3b4d0>]"
      ]
     },
     "execution_count": 4,
     "metadata": {},
     "output_type": "execute_result"
    }
   ],
   "source": [
    "t2 = {\"trajectory_id\": 2, \"hour\": 11}\n",
    "#(getattr(DublinPoints,\"trajectory_id\") == 1),(getattr(DublinPoints,\"hour\") ==  6))\n",
    "db.query(DublinPoints).filter_by(**t2).all()"
   ]
  },
  {
   "cell_type": "code",
   "execution_count": 5,
   "id": "5b772798-d421-429a-9d99-a72c886342c7",
   "metadata": {},
   "outputs": [],
   "source": [
    "from app import crud"
   ]
  },
  {
   "cell_type": "code",
   "execution_count": 6,
   "id": "9de3a5d0-414c-4c6c-aeec-e457757ace65",
   "metadata": {},
   "outputs": [],
   "source": [
    "x = crud.dublin_points.get_traj_by_multiparam(db=db, trajectory_id=2, hour=11)"
   ]
  },
  {
   "cell_type": "code",
   "execution_count": null,
   "id": "697d8e24-c1d2-407d-a288-ab55a634910e",
   "metadata": {},
   "outputs": [],
   "source": []
  },
  {
   "cell_type": "code",
   "execution_count": null,
   "id": "2be6ad59-7548-4479-b579-21b16da422d9",
   "metadata": {},
   "outputs": [],
   "source": []
  },
  {
   "cell_type": "code",
   "execution_count": 7,
   "id": "143ffe2a-44bb-414a-ac9d-7bb197207036",
   "metadata": {},
   "outputs": [
    {
     "ename": "AttributeError",
     "evalue": "'CRUDDublinPoints' object has no attribute 'get_by_hour'",
     "output_type": "error",
     "traceback": [
      "\u001b[0;31m---------------------------------------------------------------------------\u001b[0m",
      "\u001b[0;31mAttributeError\u001b[0m                            Traceback (most recent call last)",
      "\u001b[0;32m/tmp/ipykernel_3137/1303717845.py\u001b[0m in \u001b[0;36m<module>\u001b[0;34m\u001b[0m\n\u001b[0;32m----> 1\u001b[0;31m \u001b[0mdublin_points\u001b[0m \u001b[0;34m=\u001b[0m \u001b[0mcrud\u001b[0m\u001b[0;34m.\u001b[0m\u001b[0mdublin_points\u001b[0m\u001b[0;34m.\u001b[0m\u001b[0mget_by_hour\u001b[0m\u001b[0;34m(\u001b[0m\u001b[0mdb\u001b[0m\u001b[0;34m=\u001b[0m\u001b[0mdb\u001b[0m\u001b[0;34m,\u001b[0m \u001b[0mhour\u001b[0m\u001b[0;34m=\u001b[0m\u001b[0;36m8\u001b[0m\u001b[0;34m)\u001b[0m\u001b[0;34m\u001b[0m\u001b[0;34m\u001b[0m\u001b[0m\n\u001b[0m",
      "\u001b[0;31mAttributeError\u001b[0m: 'CRUDDublinPoints' object has no attribute 'get_by_hour'"
     ]
    }
   ],
   "source": [
    "dublin_points = crud.dublin_points.get_by_hour(db=db, hour=8)"
   ]
  },
  {
   "cell_type": "code",
   "execution_count": null,
   "id": "48d26d79-c087-4824-a1cd-1cb6957d3ce4",
   "metadata": {},
   "outputs": [],
   "source": [
    "dublin_points"
   ]
  },
  {
   "cell_type": "code",
   "execution_count": null,
   "id": "1a53af6d-e871-4ca0-9280-65d2d520437a",
   "metadata": {},
   "outputs": [],
   "source": [
    "rota=0\n",
    "traj=0\n",
    "evaluation = transformer.model.predict(\"asd\", rota=rota, traj=traj)\n",
    "        "
   ]
  },
  {
   "cell_type": "code",
   "execution_count": null,
   "id": "63ec1c21-f6ce-4050-8554-4da6423c13f7",
   "metadata": {},
   "outputs": [],
   "source": []
  },
  {
   "cell_type": "code",
   "execution_count": null,
   "id": "554e0f37-e56d-40f2-a240-b09f760e63ce",
   "metadata": {},
   "outputs": [],
   "source": [
    "compare = list(map(lambda x, y: x != y,\n",
    "    evaluation[\"Prediction\"][1:],\n",
    "    evaluation[\"RealData\"]))"
   ]
  },
  {
   "cell_type": "code",
   "execution_count": null,
   "id": "c08d72a2-514d-41a7-98cd-279abe3b472b",
   "metadata": {},
   "outputs": [],
   "source": [
    "from app.api.deps import load_trajectories_from_npy\n",
    "trajectories = load_trajectories_from_npy(rota)"
   ]
  },
  {
   "cell_type": "code",
   "execution_count": null,
   "id": "28dae21e-9e5a-456b-95a2-eabc5f3e46d3",
   "metadata": {},
   "outputs": [],
   "source": [
    "if (traj < 50):\n",
    "    df = trajectories[\"traj\"]\n",
    "else:\n",
    "    df = trajectories[\"traj_anom\"]\n",
    "    traj = traj - 50"
   ]
  },
  {
   "cell_type": "code",
   "execution_count": null,
   "id": "01a51909-fc48-436f-a965-02e057c70087",
   "metadata": {},
   "outputs": [],
   "source": [
    "df[[\"lat\", \"lng\"]]"
   ]
  },
  {
   "cell_type": "code",
   "execution_count": null,
   "id": "7be8d4c2-f39e-4cd3-82d8-7566d893e591",
   "metadata": {},
   "outputs": [],
   "source": [
    "df[df[\"traj\"] == traj][[\"lat\", \"lng\"]][compare].to_dict()"
   ]
  },
  {
   "cell_type": "code",
   "execution_count": null,
   "id": "9e5e06a5-3dec-4411-995a-a20513bb14fb",
   "metadata": {},
   "outputs": [],
   "source": [
    "d = {\"trajetoria\": .to_dict(),\n",
    "\"anomalia_detectada\": \n",
    "}"
   ]
  }
 ],
 "metadata": {
  "kernelspec": {
   "display_name": "Python 3 (ipykernel)",
   "language": "python",
   "name": "python3"
  },
  "language_info": {
   "codemirror_mode": {
    "name": "ipython",
    "version": 3
   },
   "file_extension": ".py",
   "mimetype": "text/x-python",
   "name": "python",
   "nbconvert_exporter": "python",
   "pygments_lexer": "ipython3",
   "version": "3.7.12"
  }
 },
 "nbformat": 4,
 "nbformat_minor": 5
}
