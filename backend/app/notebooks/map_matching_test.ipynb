{
 "cells": [
  {
   "cell_type": "code",
   "execution_count": 1,
   "id": "0ec1a52a-0352-453b-b74f-d2e5799ae49f",
   "metadata": {},
   "outputs": [],
   "source": [
    "import pandas as pd\n",
    "import plotly.express as px"
   ]
  },
  {
   "cell_type": "code",
   "execution_count": 2,
   "id": "50df5d30-fa51-4e04-b9e9-63d2fcca6eca",
   "metadata": {},
   "outputs": [],
   "source": [
    "route = pd.read_csv(\"../scripts/data/routes.txt\")\n",
    "trip = pd.read_csv(\"../scripts/data/trips.txt\")\n",
    "shapes = pd.read_csv(\"../scripts/data/shapes.txt\")\n"
   ]
  },
  {
   "cell_type": "code",
   "execution_count": 3,
   "id": "47503459-025b-4195-898b-ad14497d2f26",
   "metadata": {},
   "outputs": [
    {
     "name": "stdout",
     "output_type": "stream",
     "text": [
      "../scripts/data/agency.txt          ../scripts/data/stop_times.txt\n",
      "../scripts/data/calendar.txt        ../scripts/data/stops.txt\n",
      "../scripts/data/calendar_dates.txt  ../scripts/data/transfers.txt\n",
      "../scripts/data/routes.txt          ../scripts/data/trips.txt\n",
      "../scripts/data/shapes.txt\n"
     ]
    }
   ],
   "source": [
    "ls ../scripts/data/*txt"
   ]
  },
  {
   "cell_type": "code",
   "execution_count": 4,
   "id": "3ed67c36-5ac4-40c1-bd9b-db887e5aff09",
   "metadata": {},
   "outputs": [],
   "source": [
    "features = [\n",
    "    'timestamp', 'line_id', 'direction', 'journey_id',\n",
    "    'time_frame', 'vehicle_journey_id', 'operator',\n",
    "    'congestion', 'lng', 'lat', 'delay', 'block_id',\n",
    "    'vehicle_id', 'stop_id', 'a']\n",
    "df = pd.read_csv(\"../scripts/data/siri.20130107.csv.gz\", names=features)"
   ]
  },
  {
   "cell_type": "code",
   "execution_count": 5,
   "id": "d2c32b3e-51e7-4658-a3b5-dcc3fd278c7c",
   "metadata": {},
   "outputs": [],
   "source": [
    "df1 = df[df[\"journey_id\"]==\"00010001\"]"
   ]
  },
  {
   "cell_type": "code",
   "execution_count": 6,
   "id": "a57a1f12-395f-452d-886c-e66dcd6b24f2",
   "metadata": {},
   "outputs": [
    {
     "data": {
      "text/html": [
       "<div>\n",
       "<style scoped>\n",
       "    .dataframe tbody tr th:only-of-type {\n",
       "        vertical-align: middle;\n",
       "    }\n",
       "\n",
       "    .dataframe tbody tr th {\n",
       "        vertical-align: top;\n",
       "    }\n",
       "\n",
       "    .dataframe thead th {\n",
       "        text-align: right;\n",
       "    }\n",
       "</style>\n",
       "<table border=\"1\" class=\"dataframe\">\n",
       "  <thead>\n",
       "    <tr style=\"text-align: right;\">\n",
       "      <th></th>\n",
       "      <th>lat</th>\n",
       "      <th>lng</th>\n",
       "    </tr>\n",
       "  </thead>\n",
       "  <tbody>\n",
       "    <tr>\n",
       "      <th>607426</th>\n",
       "      <td>53.324017</td>\n",
       "      <td>-6.212133</td>\n",
       "    </tr>\n",
       "    <tr>\n",
       "      <th>853970</th>\n",
       "      <td>53.324017</td>\n",
       "      <td>-6.211900</td>\n",
       "    </tr>\n",
       "  </tbody>\n",
       "</table>\n",
       "</div>"
      ],
      "text/plain": [
       "              lat       lng\n",
       "607426  53.324017 -6.212133\n",
       "853970  53.324017 -6.211900"
      ]
     },
     "execution_count": 6,
     "metadata": {},
     "output_type": "execute_result"
    }
   ],
   "source": [
    "df1[df1[\"lat\"] == df1[\"lat\"].min()][[\"lat\",\"lng\"]]"
   ]
  },
  {
   "cell_type": "code",
   "execution_count": null,
   "id": "125799ee-cc8f-40fc-b242-88375fadb0a6",
   "metadata": {},
   "outputs": [],
   "source": []
  },
  {
   "cell_type": "code",
   "execution_count": null,
   "id": "b998899c-2edd-40df-9a4e-13a6231a303b",
   "metadata": {},
   "outputs": [],
   "source": []
  },
  {
   "cell_type": "raw",
   "id": "5b2fafb7-b930-45cc-a397-1f4c46d6d945",
   "metadata": {},
   "source": [
    "!pip install osmnx"
   ]
  },
  {
   "cell_type": "code",
   "execution_count": 7,
   "id": "e68ea2b5-ed2c-4d41-81bb-7716e055d1e4",
   "metadata": {},
   "outputs": [],
   "source": [
    "import osmnx as ox"
   ]
  },
  {
   "cell_type": "code",
   "execution_count": 8,
   "id": "f5c86d4b-8f93-403a-9ad8-d078ecea48e7",
   "metadata": {},
   "outputs": [],
   "source": [
    " province = ox.geocode_to_gdf(\"Dublin, Irland\")"
   ]
  },
  {
   "cell_type": "code",
   "execution_count": 9,
   "id": "a4d38e4f-c8a4-4d96-9b0a-77e9e2a08413",
   "metadata": {},
   "outputs": [
    {
     "data": {
      "text/html": [
       "<div>\n",
       "<style scoped>\n",
       "    .dataframe tbody tr th:only-of-type {\n",
       "        vertical-align: middle;\n",
       "    }\n",
       "\n",
       "    .dataframe tbody tr th {\n",
       "        vertical-align: top;\n",
       "    }\n",
       "\n",
       "    .dataframe thead th {\n",
       "        text-align: right;\n",
       "    }\n",
       "</style>\n",
       "<table border=\"1\" class=\"dataframe\">\n",
       "  <thead>\n",
       "    <tr style=\"text-align: right;\">\n",
       "      <th></th>\n",
       "      <th>geometry</th>\n",
       "      <th>bbox_north</th>\n",
       "      <th>bbox_south</th>\n",
       "      <th>bbox_east</th>\n",
       "      <th>bbox_west</th>\n",
       "      <th>place_id</th>\n",
       "      <th>osm_type</th>\n",
       "      <th>osm_id</th>\n",
       "      <th>lat</th>\n",
       "      <th>lon</th>\n",
       "      <th>display_name</th>\n",
       "      <th>class</th>\n",
       "      <th>type</th>\n",
       "      <th>importance</th>\n",
       "    </tr>\n",
       "  </thead>\n",
       "  <tbody>\n",
       "    <tr>\n",
       "      <th>0</th>\n",
       "      <td>POLYGON ((-6.38703 53.34081, -6.38658 53.33867...</td>\n",
       "      <td>53.410542</td>\n",
       "      <td>53.298734</td>\n",
       "      <td>-6.114883</td>\n",
       "      <td>-6.387026</td>\n",
       "      <td>281438803</td>\n",
       "      <td>relation</td>\n",
       "      <td>1109531</td>\n",
       "      <td>53.349764</td>\n",
       "      <td>-6.260273</td>\n",
       "      <td>Dublin, County Dublin, Leinster, Ireland</td>\n",
       "      <td>boundary</td>\n",
       "      <td>administrative</td>\n",
       "      <td>0.81159</td>\n",
       "    </tr>\n",
       "  </tbody>\n",
       "</table>\n",
       "</div>"
      ],
      "text/plain": [
       "                                            geometry  bbox_north  bbox_south  \\\n",
       "0  POLYGON ((-6.38703 53.34081, -6.38658 53.33867...   53.410542   53.298734   \n",
       "\n",
       "   bbox_east  bbox_west   place_id  osm_type   osm_id        lat       lon  \\\n",
       "0  -6.114883  -6.387026  281438803  relation  1109531  53.349764 -6.260273   \n",
       "\n",
       "                               display_name     class            type  \\\n",
       "0  Dublin, County Dublin, Leinster, Ireland  boundary  administrative   \n",
       "\n",
       "   importance  \n",
       "0     0.81159  "
      ]
     },
     "execution_count": 9,
     "metadata": {},
     "output_type": "execute_result"
    }
   ],
   "source": [
    "province.head()"
   ]
  },
  {
   "cell_type": "code",
   "execution_count": 10,
   "id": "41003416-7b80-475d-b48d-e8e33fb8a3e6",
   "metadata": {},
   "outputs": [
    {
     "data": {
      "image/png": "[encoded data removed]",
      "text/plain": [
       "<Figure size 432x288 with 1 Axes>"
      ]
     },
     "metadata": {
      "needs_background": "light"
     },
     "output_type": "display_data"
    }
   ],
   "source": [
    "ax = ox.project_gdf(province).plot()\n",
    "_ = ax.axis('off')"
   ]
  },
  {
   "cell_type": "code",
   "execution_count": 13,
   "id": "bc1f42e0-0622-44e8-a548-b08090018950",
   "metadata": {},
   "outputs": [
    {
     "name": "stderr",
     "output_type": "stream",
     "text": [
      "/usr/local/lib/python3.7/site-packages/osmnx/utils_geo.py:335: ShapelyDeprecationWarning: Iteration over multi-part geometries is deprecated and will be removed in Shapely 2.0. Use the `geoms` property to access the constituent parts of a multi-part geometry.\n",
      "  for polygon in geometry:\n",
      "/usr/local/lib/python3.7/site-packages/osmnx/utils_geo.py:426: ShapelyDeprecationWarning: Iteration over multi-part geometries is deprecated and will be removed in Shapely 2.0. Use the `geoms` property to access the constituent parts of a multi-part geometry.\n",
      "  for poly in multipoly:\n",
      "/usr/local/lib/python3.7/site-packages/osmnx/utils_geo.py:426: ShapelyDeprecationWarning: Iteration over multi-part geometries is deprecated and will be removed in Shapely 2.0. Use the `geoms` property to access the constituent parts of a multi-part geometry.\n",
      "  for poly in multipoly:\n"
     ]
    },
    {
     "data": {
      "image/png": "[encoded data removed]",
      "text/plain": [
       "<Figure size 576x576 with 1 Axes>"
      ]
     },
     "metadata": {},
     "output_type": "display_data"
    },
    {
     "data": {
      "text/plain": [
       "(<Figure size 576x576 with 1 Axes>, <AxesSubplot:>)"
      ]
     },
     "execution_count": 13,
     "metadata": {},
     "output_type": "execute_result"
    }
   ],
   "source": [
    "G = ox.graph_from_point((53.324017, -6.211900), dist=750, network_type='drive')\n",
    "ox.plot_graph(G)"
   ]
  },
  {
   "cell_type": "code",
   "execution_count": 15,
   "id": "58419459-82b2-44be-8cba-912365dd8373",
   "metadata": {},
   "outputs": [],
   "source": [
    "def save_graph_shapefile_directional(G, filepath=None, encoding=\"utf-8\"):\n",
    "    # default filepath if none was provided\n",
    "    if filepath is None:\n",
    "        filepath = os.path.join(ox.settings.data_folder, \"graph_shapefile\")\n",
    "\n",
    "    # if save folder does not already exist, create it (shapefiles\n",
    "    # get saved as set of files)\n",
    "    if not filepath == \"\" and not os.path.exists(filepath):\n",
    "        os.makedirs(filepath)\n",
    "    filepath_nodes = os.path.join(filepath, \"nodes.shp\")\n",
    "    filepath_edges = os.path.join(filepath, \"edges.shp\")\n",
    "\n",
    "    # convert undirected graph to gdfs and stringify non-numeric columns\n",
    "    gdf_nodes, gdf_edges = ox.utils_graph.graph_to_gdfs(G)\n",
    "    gdf_nodes = ox.io._stringify_nonnumeric_cols(gdf_nodes)\n",
    "    gdf_edges = ox.io._stringify_nonnumeric_cols(gdf_edges)\n",
    "    # We need an unique ID for each edge\n",
    "    gdf_edges[\"fid\"] = np.arange(0, gdf_edges.shape[0], dtype='int')\n",
    "    # save the nodes and edges as separate ESRI shapefiles\n",
    "    gdf_nodes.to_file(filepath_nodes, encoding=encoding)\n",
    "    gdf_edges.to_file(filepath_edges, encoding=encoding)"
   ]
  },
  {
   "cell_type": "code",
   "execution_count": 18,
   "id": "de81eb17-5b19-4b70-8797-c219e4da332f",
   "metadata": {},
   "outputs": [
    {
     "name": "stderr",
     "output_type": "stream",
     "text": [
      "/usr/local/lib/python3.7/site-packages/ipykernel_launcher.py:20: UserWarning: Column names longer than 10 characters will be truncated when saved to ESRI Shapefile.\n"
     ]
    }
   ],
   "source": [
    "\n",
    "import time\n",
    "#from shapely.geometry import Polygon\n",
    "import os\n",
    "import numpy as np\n",
    "\n",
    "save_graph_shapefile_directional(G, filepath='./network-new')"
   ]
  },
  {
   "cell_type": "code",
   "execution_count": 29,
   "id": "8aac6e41-8238-4ea4-9538-ceb5847cf0ca",
   "metadata": {},
   "outputs": [
    {
     "name": "stdout",
     "output_type": "stream",
     "text": [
      "Found existing installation: FMM 0.12\n",
      "Uninstalling FMM-0.12:\n",
      "  Successfully uninstalled FMM-0.12\n",
      "\u001b[33mWARNING: Running pip as the 'root' user can result in broken permissions and conflicting behaviour with the system package manager. It is recommended to use a virtual environment instead: https://pip.pypa.io/warnings/venv\u001b[0m\n"
     ]
    }
   ],
   "source": [
    "!pip uninstall -y fmm"
   ]
  },
  {
   "cell_type": "code",
   "execution_count": 24,
   "id": "d225fba7-8f99-45e7-b023-a54d445ca1c0",
   "metadata": {},
   "outputs": [
    {
     "ename": "ImportError",
     "evalue": "cannot import name 'Network' from 'fmm' (/usr/local/lib/python3.7/site-packages/fmm.py)",
     "output_type": "error",
     "traceback": [
      "\u001b[0;31m---------------------------------------------------------------------------\u001b[0m",
      "\u001b[0;31mImportError\u001b[0m                               Traceback (most recent call last)",
      "\u001b[0;32m/tmp/ipykernel_725/3559258578.py\u001b[0m in \u001b[0;36m<module>\u001b[0;34m\u001b[0m\n\u001b[0;32m----> 1\u001b[0;31m \u001b[0;32mfrom\u001b[0m \u001b[0mfmm\u001b[0m \u001b[0;32mimport\u001b[0m \u001b[0mNetwork\u001b[0m\u001b[0;34m\u001b[0m\u001b[0;34m\u001b[0m\u001b[0m\n\u001b[0m\u001b[1;32m      2\u001b[0m \u001b[0;31m#FastMapMatch,Network,NetworkGraph,UBODTGenAlgorithm,UBODT,FastMapMatchConfig\u001b[0m\u001b[0;34m\u001b[0m\u001b[0;34m\u001b[0m\u001b[0;34m\u001b[0m\u001b[0m\n\u001b[1;32m      3\u001b[0m \u001b[0;34m\u001b[0m\u001b[0m\n\u001b[1;32m      4\u001b[0m \u001b[0;31m### Read network data\u001b[0m\u001b[0;34m\u001b[0m\u001b[0;34m\u001b[0m\u001b[0;34m\u001b[0m\u001b[0m\n\u001b[1;32m      5\u001b[0m \u001b[0;34m\u001b[0m\u001b[0m\n",
      "\u001b[0;31mImportError\u001b[0m: cannot import name 'Network' from 'fmm' (/usr/local/lib/python3.7/site-packages/fmm.py)"
     ]
    }
   ],
   "source": [
    "from fmm import Network\n",
    "#FastMapMatch,Network,NetworkGraph,UBODTGenAlgorithm,UBODT,FastMapMatchConfig\n",
    "\n",
    "### Read network data\n",
    "\n",
    "network = Network(\"network-new/edges.shp\",\"fid\",\"u\",\"v\")\n",
    "print (\"Nodes {} edges {}\".format(network.get_node_count(),network.get_edge_count()))\n",
    "graph = NetworkGraph(network)"
   ]
  },
  {
   "cell_type": "code",
   "execution_count": 25,
   "id": "27ac53ed-3410-4305-b5ef-b2d1dd72f7f4",
   "metadata": {},
   "outputs": [],
   "source": [
    "import fmm"
   ]
  },
  {
   "cell_type": "code",
   "execution_count": null,
   "id": "c06e0b92-209b-4202-b19b-ba43ebf1d92f",
   "metadata": {},
   "outputs": [],
   "source": [
    "fmm."
   ]
  },
  {
   "cell_type": "code",
   "execution_count": null,
   "id": "0818ca5b-90f5-42ba-91bf-18eea7c7be3a",
   "metadata": {},
   "outputs": [],
   "source": []
  }
 ],
 "metadata": {
  "kernelspec": {
   "display_name": "Python 3 (ipykernel)",
   "language": "python",
   "name": "python3"
  },
  "language_info": {
   "codemirror_mode": {
    "name": "ipython",
    "version": 3
   },
   "file_extension": ".py",
   "mimetype": "text/x-python",
   "name": "python",
   "nbconvert_exporter": "python",
   "pygments_lexer": "ipython3",
   "version": "3.7.12"
  }
 },
 "nbformat": 4,
 "nbformat_minor": 5
}
