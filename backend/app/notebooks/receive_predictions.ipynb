{
 "cells": [
  {
   "cell_type": "code",
   "execution_count": 1,
   "id": "8d4b4987-b891-4227-8527-f3d77a78c826",
   "metadata": {},
   "outputs": [],
   "source": [
    "from app.db.session import SessionLocal\n",
    "db = SessionLocal()"
   ]
  },
  {
   "cell_type": "code",
   "execution_count": 19,
   "id": "7e5a9eb3-2be6-416b-80dd-0cf4c6ae312c",
   "metadata": {},
   "outputs": [],
   "source": [
    "import psycopg2 as ps\n",
    "\n",
    "conn = ps.connect(dbname=\"app\",\n",
    "                  user=\"postgres\",\n",
    "                  password=\"monografia\",\n",
    "                  host=\"backend-mobapp_db_1\")\n",
    "cur = conn.cursor()\n",
    "\n",
    "cur.execute(\"SELECT * FROM dublinpredictregion;\")\n",
    "\n"
   ]
  },
  {
   "cell_type": "code",
   "execution_count": 20,
   "id": "cdaf7f56-ffc4-440a-9acc-02c0d89799da",
   "metadata": {},
   "outputs": [],
   "source": [
    "x = cur.fetchall()[99]"
   ]
  },
  {
   "cell_type": "code",
   "execution_count": 26,
   "id": "7aef3454-2efa-4b91-93fb-1433b5823938",
   "metadata": {},
   "outputs": [],
   "source": [
    "exec(\"xx =\" + x[4].replace(\"{\",\"[\").replace(\"}\",\"]\"))\n"
   ]
  },
  {
   "cell_type": "code",
   "execution_count": 29,
   "id": "b10e9095-2036-4a54-bd08-d9a3cdadf3bc",
   "metadata": {},
   "outputs": [
    {
     "data": {
      "text/plain": [
       "27"
      ]
     },
     "execution_count": 29,
     "metadata": {},
     "output_type": "execute_result"
    }
   ],
   "source": [
    "xx[0]+5\n"
   ]
  },
  {
   "cell_type": "code",
   "execution_count": null,
   "id": "3b26e2d0-538e-4ed3-a6a0-c47d4848c463",
   "metadata": {},
   "outputs": [],
   "source": []
  }
 ],
 "metadata": {
  "kernelspec": {
   "display_name": "Python 3 (ipykernel)",
   "language": "python",
   "name": "python3"
  },
  "language_info": {
   "codemirror_mode": {
    "name": "ipython",
    "version": 3
   },
   "file_extension": ".py",
   "mimetype": "text/x-python",
   "name": "python",
   "nbconvert_exporter": "python",
   "pygments_lexer": "ipython3",
   "version": "3.7.12"
  }
 },
 "nbformat": 4,
 "nbformat_minor": 5
}
