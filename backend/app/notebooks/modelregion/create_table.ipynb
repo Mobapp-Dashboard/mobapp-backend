{
 "cells": [
  {
   "cell_type": "code",
   "execution_count": 1,
   "id": "41e8d3fe-8993-41a4-8cc5-efd532195247",
   "metadata": {},
   "outputs": [],
   "source": [
    "import psycopg2 as ps\n",
    "\n",
    "table = \"dublinmodeldetectionregion\"\n",
    "\n",
    "conn = ps.connect(dbname=\"app\",\n",
    "                  user=\"postgres\",\n",
    "                  password=\"monografia\",\n",
    "                  host=\"backend-mobapp_db_1\")\n",
    "cur = conn.cursor()\n",
    "\n",
    "cur.execute(f\"CREATE TABLE {table} ( \\\n",
    "index int, route int, trajectory_id int, model varchar, anom_predictions varchar, anom_true varchar);\")\n",
    "\n",
    "conn.commit()\n"
   ]
  }
 ],
 "metadata": {
  "kernelspec": {
   "display_name": "Python 3 (ipykernel)",
   "language": "python",
   "name": "python3"
  },
  "language_info": {
   "codemirror_mode": {
    "name": "ipython",
    "version": 3
   },
   "file_extension": ".py",
   "mimetype": "text/x-python",
   "name": "python",
   "nbconvert_exporter": "python",
   "pygments_lexer": "ipython3",
   "version": "3.7.12"
  }
 },
 "nbformat": 4,
 "nbformat_minor": 5
}
