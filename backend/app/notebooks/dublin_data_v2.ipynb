{
 "cells": [
  {
   "cell_type": "code",
   "execution_count": 1,
   "id": "9f03d86c",
   "metadata": {},
   "outputs": [],
   "source": [
    "import pandas as pd\n",
    "from sqlalchemy import create_engine\n"
   ]
  },
  {
   "cell_type": "code",
   "execution_count": 2,
   "id": "d7c7c3de",
   "metadata": {},
   "outputs": [],
   "source": [
    "dfm = pd.read_csv(\"../scripts/data/dublin_meta_3lines.csv\")\n",
    "dfm = dfm[dfm.columns[1:]]"
   ]
  },
  {
   "cell_type": "code",
   "execution_count": 10,
   "id": "0b66a0d4",
   "metadata": {},
   "outputs": [],
   "source": [
    "dfm[[\"time_frame\", \"first_instant\", \"last_instant\"]] = dfm[[\"time_frame\", \"first_instant\", \"last_instant\"]].astype(\"datetime64[ns]\")"
   ]
  },
  {
   "cell_type": "code",
   "execution_count": 11,
   "id": "78ed53d3",
   "metadata": {},
   "outputs": [],
   "source": [
    "df = pd.read_csv(\"../scripts/data/dublin_points_3lines.csv\")\n",
    "df = df[df.columns[1:]]\n",
    "df.columns = ['trajectory_id', 'instant', 'lng', 'lat', 'delta_dist',\n",
    "       'delta_time', 'cum_dist', 'cum_time', 'bearing', 'speed',\n",
    "       'acceleration', 'turn']"
   ]
  },
  {
   "cell_type": "code",
   "execution_count": 13,
   "id": "a3047795",
   "metadata": {},
   "outputs": [],
   "source": [
    "df[\"instant\"] = df[\"instant\"].astype(\"datetime64[ns]\")"
   ]
  },
  {
   "cell_type": "code",
   "execution_count": 14,
   "id": "d760984c",
   "metadata": {},
   "outputs": [
    {
     "data": {
      "text/plain": [
       "trajectory_id                  int64\n",
       "journey_id                    object\n",
       "time_frame            datetime64[ns]\n",
       "vehicle_journey_id             int64\n",
       "operator                      object\n",
       "vehicle_id                     int64\n",
       "first_lat                    float64\n",
       "first_lng                    float64\n",
       "last_lat                     float64\n",
       "last_lng                     float64\n",
       "first_instant         datetime64[ns]\n",
       "last_instant          datetime64[ns]\n",
       "dtype: object"
      ]
     },
     "execution_count": 14,
     "metadata": {},
     "output_type": "execute_result"
    }
   ],
   "source": [
    "dfm.dtypes"
   ]
  },
  {
   "cell_type": "code",
   "execution_count": 15,
   "id": "8ea49f03",
   "metadata": {},
   "outputs": [],
   "source": [
    "import psycopg2 as ps\n",
    "\n",
    "TABLEMETA = \"dublinmeta_v2\"\n",
    "TABLEPOINTS = \"dublinpoints_v2\"\n",
    "IP = \"172.22.0.6\"\n",
    "conn = ps.connect(dbname=\"app\",\n",
    "                  user=\"postgres\",\n",
    "                  password=\"monografia\",\n",
    "                  host=IP)"
   ]
  },
  {
   "cell_type": "code",
   "execution_count": 16,
   "id": "8b52a0fa",
   "metadata": {},
   "outputs": [],
   "source": [
    "cur = conn.cursor()\n",
    "\n",
    "cur.execute(f\"CREATE TABLE {TABLEMETA} (\\\n",
    "    trajectory_id int PRIMARY KEY, journey_id varchar,\\\n",
    "    time_frame timestamp, vehicle_journey_id int,\\\n",
    "    operator varchar, vehicle_id int,\\\n",
    "    first_lat numeric, first_lng numeric,\\\n",
    "    last_lat numeric, last_lng numeric,\\\n",
    "    first_instant timestamp, last_instant timestamp);\")\n",
    "conn.commit()"
   ]
  },
  {
   "cell_type": "code",
   "execution_count": 17,
   "id": "93306b48",
   "metadata": {},
   "outputs": [],
   "source": [
    "\n",
    "engine = create_engine(f'postgresql://postgres:monografia@{IP}/app')\n",
    "\n",
    "dfm.to_sql(\n",
    "    TABLEMETA,\n",
    "    engine,\n",
    "    if_exists=\"append\",\n",
    "    index=False,\n",
    ")\n"
   ]
  },
  {
   "cell_type": "code",
   "execution_count": 18,
   "id": "65230147",
   "metadata": {},
   "outputs": [
    {
     "data": {
      "text/plain": [
       "trajectory_id             int64\n",
       "instant          datetime64[ns]\n",
       "lng                     float64\n",
       "lat                     float64\n",
       "delta_dist              float64\n",
       "delta_time                int64\n",
       "cum_dist                float64\n",
       "cum_time                  int64\n",
       "bearing                 float64\n",
       "speed                   float64\n",
       "acceleration            float64\n",
       "turn                     object\n",
       "dtype: object"
      ]
     },
     "execution_count": 18,
     "metadata": {},
     "output_type": "execute_result"
    }
   ],
   "source": [
    "df.dtypes"
   ]
  },
  {
   "cell_type": "code",
   "execution_count": 19,
   "id": "51ad12a7",
   "metadata": {},
   "outputs": [
    {
     "data": {
      "text/html": [
       "<div>\n",
       "<style scoped>\n",
       "    .dataframe tbody tr th:only-of-type {\n",
       "        vertical-align: middle;\n",
       "    }\n",
       "\n",
       "    .dataframe tbody tr th {\n",
       "        vertical-align: top;\n",
       "    }\n",
       "\n",
       "    .dataframe thead th {\n",
       "        text-align: right;\n",
       "    }\n",
       "</style>\n",
       "<table border=\"1\" class=\"dataframe\">\n",
       "  <thead>\n",
       "    <tr style=\"text-align: right;\">\n",
       "      <th></th>\n",
       "      <th>trajectory_id</th>\n",
       "      <th>instant</th>\n",
       "      <th>lng</th>\n",
       "      <th>lat</th>\n",
       "      <th>delta_dist</th>\n",
       "      <th>delta_time</th>\n",
       "      <th>cum_dist</th>\n",
       "      <th>cum_time</th>\n",
       "      <th>bearing</th>\n",
       "      <th>speed</th>\n",
       "      <th>acceleration</th>\n",
       "      <th>turn</th>\n",
       "    </tr>\n",
       "  </thead>\n",
       "  <tbody>\n",
       "    <tr>\n",
       "      <th>0</th>\n",
       "      <td>1</td>\n",
       "      <td>2013-01-01 12:00:44</td>\n",
       "      <td>-6.262341</td>\n",
       "      <td>53.391186</td>\n",
       "      <td>19.797672</td>\n",
       "      <td>20</td>\n",
       "      <td>19.797672</td>\n",
       "      <td>20</td>\n",
       "      <td>5.026563</td>\n",
       "      <td>0.989884</td>\n",
       "      <td>0.049494</td>\n",
       "      <td>AFTERNOON</td>\n",
       "    </tr>\n",
       "    <tr>\n",
       "      <th>1</th>\n",
       "      <td>1</td>\n",
       "      <td>2013-01-01 12:01:05</td>\n",
       "      <td>-6.257115</td>\n",
       "      <td>53.391460</td>\n",
       "      <td>349.013369</td>\n",
       "      <td>21</td>\n",
       "      <td>368.811041</td>\n",
       "      <td>41</td>\n",
       "      <td>351.695216</td>\n",
       "      <td>16.619684</td>\n",
       "      <td>0.791414</td>\n",
       "      <td>AFTERNOON</td>\n",
       "    </tr>\n",
       "    <tr>\n",
       "      <th>2</th>\n",
       "      <td>1</td>\n",
       "      <td>2013-01-01 12:01:25</td>\n",
       "      <td>-6.252785</td>\n",
       "      <td>53.391083</td>\n",
       "      <td>291.108874</td>\n",
       "      <td>20</td>\n",
       "      <td>659.919915</td>\n",
       "      <td>61</td>\n",
       "      <td>345.022590</td>\n",
       "      <td>14.555444</td>\n",
       "      <td>0.727772</td>\n",
       "      <td>AFTERNOON</td>\n",
       "    </tr>\n",
       "    <tr>\n",
       "      <th>3</th>\n",
       "      <td>1</td>\n",
       "      <td>2013-01-01 12:01:46</td>\n",
       "      <td>-6.249363</td>\n",
       "      <td>53.390537</td>\n",
       "      <td>235.633843</td>\n",
       "      <td>21</td>\n",
       "      <td>895.553758</td>\n",
       "      <td>82</td>\n",
       "      <td>302.890149</td>\n",
       "      <td>11.220659</td>\n",
       "      <td>0.534317</td>\n",
       "      <td>AFTERNOON</td>\n",
       "    </tr>\n",
       "    <tr>\n",
       "      <th>4</th>\n",
       "      <td>1</td>\n",
       "      <td>2013-01-01 12:02:04</td>\n",
       "      <td>-6.248399</td>\n",
       "      <td>53.389648</td>\n",
       "      <td>117.908784</td>\n",
       "      <td>18</td>\n",
       "      <td>1013.462542</td>\n",
       "      <td>100</td>\n",
       "      <td>5.939236</td>\n",
       "      <td>6.550488</td>\n",
       "      <td>0.363916</td>\n",
       "      <td>AFTERNOON</td>\n",
       "    </tr>\n",
       "  </tbody>\n",
       "</table>\n",
       "</div>"
      ],
      "text/plain": [
       "   trajectory_id             instant       lng        lat  delta_dist  \\\n",
       "0              1 2013-01-01 12:00:44 -6.262341  53.391186   19.797672   \n",
       "1              1 2013-01-01 12:01:05 -6.257115  53.391460  349.013369   \n",
       "2              1 2013-01-01 12:01:25 -6.252785  53.391083  291.108874   \n",
       "3              1 2013-01-01 12:01:46 -6.249363  53.390537  235.633843   \n",
       "4              1 2013-01-01 12:02:04 -6.248399  53.389648  117.908784   \n",
       "\n",
       "   delta_time     cum_dist  cum_time     bearing      speed  acceleration  \\\n",
       "0          20    19.797672        20    5.026563   0.989884      0.049494   \n",
       "1          21   368.811041        41  351.695216  16.619684      0.791414   \n",
       "2          20   659.919915        61  345.022590  14.555444      0.727772   \n",
       "3          21   895.553758        82  302.890149  11.220659      0.534317   \n",
       "4          18  1013.462542       100    5.939236   6.550488      0.363916   \n",
       "\n",
       "        turn  \n",
       "0  AFTERNOON  \n",
       "1  AFTERNOON  \n",
       "2  AFTERNOON  \n",
       "3  AFTERNOON  \n",
       "4  AFTERNOON  "
      ]
     },
     "execution_count": 19,
     "metadata": {},
     "output_type": "execute_result"
    }
   ],
   "source": [
    "df.head()"
   ]
  },
  {
   "cell_type": "code",
   "execution_count": 20,
   "id": "2de63799",
   "metadata": {},
   "outputs": [],
   "source": [
    "cur = conn.cursor()\n",
    "\n",
    "cur.execute(f\"CREATE TABLE {TABLEPOINTS} (\\\n",
    "    id SERIAL PRIMARY KEY, trajectory_id int, instant timestamp, lat numeric, lng numeric,\\\n",
    "    bearing numeric, speed numeric, acceleration numeric,\\\n",
    "    delta_dist numeric, delta_time numeric,\\\n",
    "    cum_dist numeric, cum_time int,\\\n",
    "    turn varchar);\")\n",
    "\n",
    "conn.commit()"
   ]
  },
  {
   "cell_type": "code",
   "execution_count": 21,
   "id": "3d1daf2c",
   "metadata": {},
   "outputs": [],
   "source": [
    "engine = create_engine(f'postgresql://postgres:monografia@{IP}/app')\n",
    "\n",
    "df.to_sql(\n",
    "    TABLEPOINTS,\n",
    "    engine,\n",
    "    if_exists=\"append\",\n",
    "    index=False,\n",
    ")"
   ]
  }
 ],
 "metadata": {
  "kernelspec": {
   "display_name": "Python 3 (ipykernel)",
   "language": "python",
   "name": "python3"
  },
  "language_info": {
   "codemirror_mode": {
    "name": "ipython",
    "version": 3
   },
   "file_extension": ".py",
   "mimetype": "text/x-python",
   "name": "python",
   "nbconvert_exporter": "python",
   "pygments_lexer": "ipython3",
   "version": "3.9.2"
  }
 },
 "nbformat": 4,
 "nbformat_minor": 5
}
