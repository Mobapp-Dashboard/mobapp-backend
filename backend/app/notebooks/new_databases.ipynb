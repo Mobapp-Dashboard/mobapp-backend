{
 "cells": [
  {
   "cell_type": "code",
   "execution_count": 1,
   "metadata": {},
   "outputs": [],
   "source": [
    "import psycopg2 as ps"
   ]
  },
  {
   "cell_type": "code",
   "execution_count": 2,
   "metadata": {},
   "outputs": [],
   "source": [
    "conn = ps.connect(dbname=\"app\",\n",
    "                  user=\"postgres\",\n",
    "                  password=\"monografia\",\n",
    "                  host=\"mobapp_db_1\")\n",
    "cur = conn.cursor()"
   ]
  },
  {
   "cell_type": "raw",
   "metadata": {},
   "source": [
    "Tabela Pai:\n",
    "'line_id' : Int (Categorico)\n",
    "'journey_id' : String (8x Char) (Categorico)\n",
    "'time_frame' : timestamp (YYYY-MM-DD)\n",
    "'vehicle_journey_id' : Int (Categorico)\n",
    "'operator': String (2x Char) (Categorico)\n",
    "'vehicle_id': Int (Categorico)\n",
    "(CHAVE PRIMARIA) trajectory_ID\n",
    "Tabela Filha:\n",
    "(CHAVE EXTRANGEIRA) trajectory_ID\n",
    "INT: year, month, day, hour, minute\n",
    "FLOAT: speed, acceleration, dist_old_point, time_old_point, lat, lng, lat_mercator, lng_mercator"
   ]
  },
  {
   "cell_type": "raw",
   "metadata": {},
   "source": [
    "query = \"CREATE SEQUENCE autoincrement\";\n",
    "cur.execute(query)"
   ]
  },
  {
   "cell_type": "code",
   "execution_count": 3,
   "metadata": {},
   "outputs": [],
   "source": [
    "TABLEMETA = \"dublin_v2\"\n",
    "TABLEPOINTS = \"dublin_trajectories_v2\""
   ]
  },
  {
   "cell_type": "code",
   "execution_count": 4,
   "metadata": {},
   "outputs": [],
   "source": [
    "cur.execute(f\"CREATE TABLE {TABLEMETA} (trajectory_Id SERIAL PRIMARY KEY, line_id int, journey_id varchar,\\\n",
    "    time_frame timestamp, vehicle_journey_id int, operator varchar, vehicle_id int, trajectory_size numeric);\")\n",
    "\n"
   ]
  },
  {
   "cell_type": "code",
   "execution_count": 5,
   "metadata": {},
   "outputs": [
    {
     "name": "stdout",
     "output_type": "stream",
     "text": [
      "CREATE TABLE dublin_trajectories_v2 (id SERIAL PRIMARY KEY, trajectory_id int, instant timestamp, lat numeric,lng numeric, lat_mercator numeric, lng_mercator numeric, speed numeric, acceleration numeric, position numeric, delta_dist numeric, delta_time numeric, cum_dist int, cum_time int, bearing numeric, year int, month int, day int, hour int, minute int, stop_labels int, first_lat numeric, first_lng numeric, last_lat numeric, last_lng numeric, first_instant timestamp, last_instant timestamp, day_moment varchar, constraint fk_trajectories_dublin foreign key (trajectory_id) REFERENCES dublin_v2 (trajectory_id));\n"
     ]
    }
   ],
   "source": [
    "create_sentence = f\"CREATE TABLE {TABLEPOINTS} \\\n",
    "(id SERIAL PRIMARY KEY, trajectory_id int, instant timestamp, lat numeric,lng numeric, lat_mercator numeric, lng_mercator numeric, \\\n",
    "speed numeric, acceleration numeric, position numeric, delta_dist numeric, delta_time numeric, \\\n",
    "cum_dist int, cum_time int, bearing numeric, \\\n",
    "year int, month int, day int, hour int, minute int, stop_labels int, \\\n",
    "first_lat numeric, first_lng numeric, last_lat numeric, last_lng numeric, first_instant timestamp, \\\n",
    "last_instant timestamp, day_moment varchar, \\\n",
    "constraint fk_trajectories_dublin foreign key (trajectory_id) REFERENCES {TABLEMETA} (trajectory_id));\"\n",
    "print(create_sentence)"
   ]
  },
  {
   "cell_type": "code",
   "execution_count": 6,
   "metadata": {},
   "outputs": [],
   "source": [
    "cur.execute(create_sentence)"
   ]
  },
  {
   "cell_type": "raw",
   "metadata": {},
   "source": [
    "   data.columns = ['trajectory_id', 'instant', 'lat', 'lng',\n",
    "                    'lat_mercator', 'lng_mercator', 'speed', 'acceleration',\n",
    "                    'delta_dist', 'delta_time', 'cum_dist', \n",
    "                    'cum_time', 'bearing', 'year',\n",
    "                    'month', 'day', 'hour', 'minute',\n",
    "                    \"first_lat\", \"first_lng\", \"last_lat\", \n",
    "                    \"last_lng\", \"first_instant\", \"last_instant\"]"
   ]
  },
  {
   "cell_type": "raw",
   "metadata": {},
   "source": [
    "# cur.execute(\"CREATE TABLE Dublin_trajectories (id SERIAL PRIMARY KEY, trajectory_id int not null, lat numeric,constraint fk_trajectories_dublin foreign key (trajectory_id) REFERENCES Dublin (trajectory_id));\")"
   ]
  },
  {
   "cell_type": "code",
   "execution_count": 7,
   "metadata": {},
   "outputs": [],
   "source": [
    "conn.commit()"
   ]
  },
  {
   "cell_type": "code",
   "execution_count": null,
   "metadata": {},
   "outputs": [],
   "source": [
    "ALTER TABLE dublin_v2\n",
    "ADD first_lat numeric, \n",
    "ADD first_lng numeric, \n",
    "ADD last_lat numeric, \n",
    "ADD last_lng numeric, \n",
    "ADD first_instant timestamp, \n",
    "ADD last_instant timestamp ;"
   ]
  },
  {
   "cell_type": "code",
   "execution_count": null,
   "metadata": {},
   "outputs": [],
   "source": [
    "UPDATE dublin_v2\n",
    "SET first_lat = p.first_lat, first_lng = p.first_lng, last_lat = p.last_lat, last_lng = p.last_lng, \n",
    "first_instant = p.first_instant, last_instant = p.last_instant\n",
    "FROM (\n",
    "    select trajectory_id, first_lat, first_lng, last_lat, last_lng, first_instant, last_instant\n",
    "    from dublin_trajectories_v2\n",
    "    group by trajectory_id, first_lat, first_lng, last_lat, last_lng, first_instant, last_instant\n",
    ") p\n",
    "WHERE p.trajectory_id = dublin_v2.trajectory_id;"
   ]
  }
 ],
 "metadata": {
  "kernelspec": {
   "display_name": "Python 3 (ipykernel)",
   "language": "python",
   "name": "python3"
  },
  "language_info": {
   "codemirror_mode": {
    "name": "ipython",
    "version": 3
   },
   "file_extension": ".py",
   "mimetype": "text/x-python",
   "name": "python",
   "nbconvert_exporter": "python",
   "pygments_lexer": "ipython3",
   "version": "3.9.2"
  }
 },
 "nbformat": 4,
 "nbformat_minor": 4
}
