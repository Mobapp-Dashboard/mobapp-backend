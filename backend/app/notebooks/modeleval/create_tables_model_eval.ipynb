{
 "cells": [
  {
   "cell_type": "code",
   "execution_count": 1,
   "id": "8bc354ec-e21a-4d57-b868-0ec15ba1fd0a",
   "metadata": {},
   "outputs": [],
   "source": [
    "import psycopg2 as ps"
   ]
  },
  {
   "cell_type": "code",
   "execution_count": 1,
   "id": "f2cdd2e4-6c2f-45c2-8fab-08d50cd7c956",
   "metadata": {},
   "outputs": [],
   "source": [
    "table = \"dublinmodeleval\"\n",
    "conn = ps.connect(dbname=\"app\",\n",
    "                  user=\"postgres\",\n",
    "                  password=\"monografia\",\n",
    "                  host=\"backend-mobapp_db_1\")\n",
    "cur = conn.cursor()\n",
    "\n",
    "cur.execute(f\"CREATE TABLE {table} ( \\\n",
    "index int, route int, model varchar, precision numeric, recall numeric, threshold numeric);\")\n",
    "\n",
    "conn.commit()"
   ]
  },
  {
   "cell_type": "code",
   "execution_count": 2,
   "id": "755d7091-11a6-46c2-9323-eb71dd3d41fc",
   "metadata": {},
   "outputs": [],
   "source": [
    "table = \"dublinmodelscores\"\n",
    "\n",
    "conn = ps.connect(dbname=\"app\",\n",
    "                  user=\"postgres\",\n",
    "                  password=\"monografia\",\n",
    "                  host=\"backend-mobapp_db_1\"\n",
    "                 )\n",
    "\n",
    "cur = conn.cursor()\n",
    "\n",
    "cur.execute(f\"CREATE TABLE {table} ( \\\n",
    "index int, route int, trajectory_id int, model varchar, scores numeric);\")\n",
    "\n",
    "conn.commit()"
   ]
  }
 ],
 "metadata": {
  "kernelspec": {
   "display_name": "Python 3 (ipykernel)",
   "language": "python",
   "name": "python3"
  },
  "language_info": {
   "codemirror_mode": {
    "name": "ipython",
    "version": 3
   },
   "file_extension": ".py",
   "mimetype": "text/x-python",
   "name": "python",
   "nbconvert_exporter": "python",
   "pygments_lexer": "ipython3",
   "version": "3.7.12"
  }
 },
 "nbformat": 4,
 "nbformat_minor": 5
}
